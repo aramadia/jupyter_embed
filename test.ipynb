{
 "cells": [
  {
   "cell_type": "code",
   "execution_count": 1,
   "id": "40aea586-5f52-4872-8b58-e2f59cc84ee3",
   "metadata": {},
   "outputs": [
    {
     "name": "stdout",
     "output_type": "stream",
     "text": [
      "{\n",
      "  \"shell_port\": 34687,\n",
      "  \"iopub_port\": 42297,\n",
      "  \"stdin_port\": 43185,\n",
      "  \"control_port\": 33451,\n",
      "  \"hb_port\": 40423,\n",
      "  \"ip\": \"127.0.0.1\",\n",
      "  \"key\": \"82b6fb47-e400f1474536bdb1f53d67bf\",\n",
      "  \"transport\": \"tcp\",\n",
      "  \"signature_scheme\": \"hmac-sha256\",\n",
      "  \"kernel_name\": \"\"\n",
      "}\n",
      "\n",
      "Paste the above JSON into a file, and connect with:\n",
      "    $> jupyter <app> --existing <file>\n",
      "or, if you are local, you can connect with just:\n",
      "    $> jupyter <app> --existing kernel-163915.json\n",
      "or even just:\n",
      "    $> jupyter <app> --existing\n",
      "if this is the most recent Jupyter kernel you have started.\n"
     ]
    }
   ],
   "source": [
    "%connect_info"
   ]
  },
  {
   "cell_type": "code",
   "execution_count": 2,
   "id": "04c2dac5-313b-493e-b385-5af0a2e84eed",
   "metadata": {},
   "outputs": [
    {
     "data": {
      "text/plain": [
       "\"you normally won't see this variable if you start a new notebook\""
      ]
     },
     "execution_count": 2,
     "metadata": {},
     "output_type": "execute_result"
    }
   ],
   "source": [
    "how_can_you_see"
   ]
  },
  {
   "cell_type": "code",
   "execution_count": 3,
   "id": "f4d4204a-723e-44f7-a181-821eaa6f029f",
   "metadata": {},
   "outputs": [
    {
     "data": {
      "text/plain": [
       "'John Doe'"
      ]
     },
     "execution_count": 3,
     "metadata": {},
     "output_type": "execute_result"
    }
   ],
   "source": [
    "# Auto complete should work\n",
    "john.name"
   ]
  },
  {
   "cell_type": "markdown",
   "id": "5784b716-5269-45d7-9f3f-af295d62b264",
   "metadata": {},
   "source": [
    "Run cell below to quit kernel"
   ]
  },
  {
   "cell_type": "code",
   "execution_count": 7,
   "id": "e5bd4c4f-d15e-45ed-8657-65421eb1c7ee",
   "metadata": {},
   "outputs": [],
   "source": [
    "quit"
   ]
  }
 ],
 "metadata": {
  "kernelspec": {
   "display_name": "Python 3 (ipykernel)",
   "language": "python",
   "name": "python3"
  },
  "language_info": {
   "codemirror_mode": {
    "name": "ipython",
    "version": 3
   },
   "file_extension": ".py",
   "mimetype": "text/x-python",
   "name": "python",
   "nbconvert_exporter": "python",
   "pygments_lexer": "ipython3",
   "version": "3.12.7"
  }
 },
 "nbformat": 4,
 "nbformat_minor": 5
}
